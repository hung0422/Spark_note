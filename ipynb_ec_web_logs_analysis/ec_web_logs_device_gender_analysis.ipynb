{
 "cells": [
  {
   "cell_type": "code",
   "execution_count": null,
   "metadata": {},
   "outputs": [],
   "source": [
    "from pyspark.sql import SparkSession\n",
    "from pyspark.sql.functions import *\n",
    "from pyspark.ml.feature import VectorAssembler, VectorIndexer, OneHotEncoder, StringIndexer\n",
    "from pyspark.ml.classification import RandomForestClassificationModel"
   ]
  },
  {
   "cell_type": "code",
   "execution_count": null,
   "metadata": {},
   "outputs": [],
   "source": [
    "# Gender prediction\n",
    "# Load gender model\n",
    "gender_model = RandomForestClassificationModel.load(\n",
    "    \"hdfs://devenv/user/spark/spark_mllib_101/ec_web_logs_analysis/model_gender_prediction/\")\n",
    "# +------+----------+\n",
    "# |gender|prediction|\n",
    "# +------+----------+\n",
    "# |     1|       1.0|\n",
    "# |     0|       0.0|\n",
    "# +------+----------+"
   ]
  },
  {
   "cell_type": "code",
   "execution_count": 1,
   "metadata": {},
   "outputs": [],
   "source": [
    "# Load full data\n",
    "logs = spark.read.parquet(\"hdfs://devenv/user/spark/spark_mllib_101/ec_web_logs_analysis/data/\")\n",
    "\n",
    "# Prepare features and preprocessing\n",
    "data_prep = logs.select(\"device_id\", \"product_category_id\", \"device_type\", \"connect_type\", \"gender\")\n",
    "\n",
    "data_prep = VectorAssembler(inputCols=[\"product_category_id\", \"device_type\", \"connect_type\"],\n",
    "                            outputCol=\"features\").transform(data_prep)\n"
   ]
  },
  {
   "cell_type": "code",
   "execution_count": null,
   "metadata": {},
   "outputs": [],
   "source": [
    "# Predict gender\n",
    "predicted_result = gender_model.transform(data_prep)"
   ]
  },
  {
   "cell_type": "code",
   "execution_count": null,
   "metadata": {},
   "outputs": [],
   "source": [
    "# Tagging inferred gender for each device and output to MySQL\n",
    "device_predictions = predicted_result.select(\"device_id\", \"prediction\")\n",
    "\n",
    "temp1 = device_predictions.groupBy(\"device_id\", \"prediction\").count()\n",
    "temp2 = temp1.select(\"device_id\", \"count\").groupBy(\"device_id\").agg(max(\"count\").alias(\"count\"))\n",
    "\n",
    "device_inferred_gender = temp1.join(temp2, [\"device_id\", \"count\"])\\\n",
    "    .drop(\"count\")\\\n",
    "    .withColumnRenamed(\"prediction\", \"inferred_gender\")\n",
    "\n",
    "device_inferred_gender.write.option(\"driver\", \"com.mysql.jdbc.Driver\") \\\n",
    "    .jdbc(\"jdbc:mysql://192.168.186.139:3306\", \"ec_web_logs_analysis.device_inferred_gender\",\n",
    "          properties={\"user\": \"spark\", \"password\": \"spark\"}, mode=\"overwrite\")\n",
    "\n",
    "# Summarize stats\n",
    "device_inferred_gender.groupBy(\"inferred_gender\")\\\n",
    "    .count() \\\n",
    "    .write.option(\"driver\", \"com.mysql.jdbc.Driver\")\\\n",
    "    .jdbc(\"jdbc:mysql://192.168.186.139:3306\", \"ec_web_logs_analysis.stats_inferred_gender_count\",\n",
    "          properties={\"user\": \"spark\", \"password\": \"spark\"}, mode=\"overwrite\")"
   ]
  }
 ],
 "metadata": {
  "kernelspec": {
   "display_name": "Python 3",
   "language": "python",
   "name": "python3"
  },
  "language_info": {
   "codemirror_mode": {
    "name": "ipython",
    "version": 3
   },
   "file_extension": ".py",
   "mimetype": "text/x-python",
   "name": "python",
   "nbconvert_exporter": "python",
   "pygments_lexer": "ipython3",
   "version": "3.7.6"
  }
 },
 "nbformat": 4,
 "nbformat_minor": 4
}
