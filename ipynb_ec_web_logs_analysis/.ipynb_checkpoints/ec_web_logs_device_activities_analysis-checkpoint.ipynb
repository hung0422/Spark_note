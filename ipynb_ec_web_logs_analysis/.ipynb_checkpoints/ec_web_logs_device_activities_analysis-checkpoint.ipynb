{
 "cells": [
  {
   "cell_type": "code",
   "execution_count": 1,
   "metadata": {},
   "outputs": [],
   "source": [
    "from pyspark.sql import SparkSession\n",
    "from pyspark.sql.functions import *"
   ]
  },
  {
   "cell_type": "code",
   "execution_count": 2,
   "metadata": {},
   "outputs": [],
   "source": [
    "# Load full data\n",
    "logs = spark.read.parquet(\"hdfs://devenv/user/spark/spark_mllib_101/ec_web_logs_analysis/data/\")\n",
    "\n",
    "# Hour info added\n",
    "logs = logs.withColumn(\"hour\", substring(\"timestamp\", 11, 3))"
   ]
  },
  {
   "cell_type": "code",
   "execution_count": null,
   "metadata": {},
   "outputs": [],
   "source": [
    "# Stats of hourly activities\n",
    "device_hourly_activity_stats = logs.select(\"device_id\", \"hour\").groupBy(\"hour\") \\\n",
    "    .agg(count(\"*\").alias(\"visit_count\"), countDistinct(\"device_id\").alias(\"uu_count\")).orderBy(\"hour\")\n",
    "\n",
    "device_hourly_activity_stats.write.option(\"driver\", \"com.mysql.jdbc.Driver\")\\\n",
    "    .jdbc(\"jdbc:mysql://192.168.186.139:3306\", \"ec_web_logs_analysis.stats_device_hourly_activities\",\n",
    "          properties={\"user\": \"spark\", \"password\": \"spark\"}, mode=\"overwrite\")"
   ]
  }
 ],
 "metadata": {
  "kernelspec": {
   "display_name": "Python 3",
   "language": "python",
   "name": "python3"
  },
  "language_info": {
   "codemirror_mode": {
    "name": "ipython",
    "version": 3
   },
   "file_extension": ".py",
   "mimetype": "text/x-python",
   "name": "python",
   "nbconvert_exporter": "python",
   "pygments_lexer": "ipython3",
   "version": "3.7.6"
  }
 },
 "nbformat": 4,
 "nbformat_minor": 4
}
