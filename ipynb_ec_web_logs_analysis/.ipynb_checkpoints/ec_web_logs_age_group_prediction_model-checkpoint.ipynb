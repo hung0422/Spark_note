{
 "cells": [
  {
   "cell_type": "code",
   "execution_count": 1,
   "metadata": {},
   "outputs": [],
   "source": [
    "from pyspark.sql import SparkSession\n",
    "from pyspark.sql.functions import isnull\n",
    "from pyspark.ml.feature import VectorAssembler, VectorIndexer, OneHotEncoder, StringIndexer\n",
    "from pyspark.ml.classification import RandomForestClassifier, RandomForestClassificationModel\n",
    "from pyspark.ml.evaluation import MulticlassClassificationEvaluator"
   ]
  },
  {
   "cell_type": "code",
   "execution_count": 2,
   "metadata": {},
   "outputs": [
    {
     "data": {
      "text/html": [
       "\n",
       "            <div>\n",
       "                <p><b>SparkSession - hive</b></p>\n",
       "                \n",
       "        <div>\n",
       "            <p><b>SparkContext</b></p>\n",
       "\n",
       "            <p><a href=\"http://192.168.186.139:4041\">Spark UI</a></p>\n",
       "\n",
       "            <dl>\n",
       "              <dt>Version</dt>\n",
       "                <dd><code>v2.4.5</code></dd>\n",
       "              <dt>Master</dt>\n",
       "                <dd><code>spark://devenv:7077</code></dd>\n",
       "              <dt>AppName</dt>\n",
       "                <dd><code>PySparkShell</code></dd>\n",
       "            </dl>\n",
       "        </div>\n",
       "        \n",
       "            </div>\n",
       "        "
      ],
      "text/plain": [
       "<pyspark.sql.session.SparkSession at 0x7fdc571d9410>"
      ]
     },
     "execution_count": 2,
     "metadata": {},
     "output_type": "execute_result"
    }
   ],
   "source": [
    "spark"
   ]
  },
  {
   "cell_type": "code",
   "execution_count": 3,
   "metadata": {
    "scrolled": true
   },
   "outputs": [
    {
     "data": {
      "text/html": [
       "\n",
       "        <div>\n",
       "            <p><b>SparkContext</b></p>\n",
       "\n",
       "            <p><a href=\"http://192.168.186.139:4041\">Spark UI</a></p>\n",
       "\n",
       "            <dl>\n",
       "              <dt>Version</dt>\n",
       "                <dd><code>v2.4.5</code></dd>\n",
       "              <dt>Master</dt>\n",
       "                <dd><code>spark://devenv:7077</code></dd>\n",
       "              <dt>AppName</dt>\n",
       "                <dd><code>PySparkShell</code></dd>\n",
       "            </dl>\n",
       "        </div>\n",
       "        "
      ],
      "text/plain": [
       "<SparkContext master=spark://devenv:7077 appName=PySparkShell>"
      ]
     },
     "execution_count": 3,
     "metadata": {},
     "output_type": "execute_result"
    }
   ],
   "source": [
    "sc"
   ]
  },
  {
   "cell_type": "code",
   "execution_count": 4,
   "metadata": {},
   "outputs": [],
   "source": [
    "# Prepare data\n",
    "logs = spark.read.parquet(\"hdfs://devenv/user/spark/spark_mllib_101/ec_web_logs_analysis/data/\")"
   ]
  },
  {
   "cell_type": "code",
   "execution_count": 5,
   "metadata": {},
   "outputs": [],
   "source": [
    "# Preprocessing and feature engineering\n",
    "feature_prep = logs.select(\"product_category_id\", \"device_type\", \"connect_type\", \"age_group\") \\\n",
    "                   .where(~isnull(\"age_group\"))\n",
    "\n",
    "feature_prep = StringIndexer(inputCol=\"age_group\", outputCol=\"age_group_indexed\").fit(feature_prep).transform(feature_prep)\n",
    "\n",
    "final_data = VectorAssembler(inputCols=[\"product_category_id\", \"device_type\", \"connect_type\"],\n",
    "                             outputCol=\"features\").transform(feature_prep)"
   ]
  },
  {
   "cell_type": "code",
   "execution_count": 6,
   "metadata": {},
   "outputs": [],
   "source": [
    "# Split data into train and test sets\n",
    "train_data, test_data = final_data.randomSplit([0.7, 0.3])"
   ]
  },
  {
   "cell_type": "code",
   "execution_count": 7,
   "metadata": {},
   "outputs": [],
   "source": [
    "# Model training\n",
    "classifier = RandomForestClassifier(featuresCol=\"features\", labelCol=\"age_group_indexed\", numTrees=20, maxDepth=10)\n",
    "model = classifier.fit(train_data)"
   ]
  },
  {
   "cell_type": "code",
   "execution_count": 8,
   "metadata": {},
   "outputs": [],
   "source": [
    "# Transform the test data using the model to get predictions\n",
    "predicted_test_data = model.transform(test_data)"
   ]
  },
  {
   "cell_type": "code",
   "execution_count": 9,
   "metadata": {},
   "outputs": [
    {
     "name": "stdout",
     "output_type": "stream",
     "text": [
      "Accuracy: {} 0.8251280981499107\n"
     ]
    }
   ],
   "source": [
    "# Evaluate the model performance\n",
    "evaluator_accuracy = MulticlassClassificationEvaluator(labelCol='age_group_indexed',\n",
    "                                                       predictionCol='prediction',\n",
    "                                                       metricName='accuracy')\n",
    "print(\"Accuracy: {}\", evaluator_accuracy.evaluate(predicted_test_data))"
   ]
  },
  {
   "cell_type": "code",
   "execution_count": 10,
   "metadata": {},
   "outputs": [
    {
     "name": "stdout",
     "output_type": "stream",
     "text": [
      "+-----------------+----------+-----+\n",
      "|age_group_indexed|prediction|count|\n",
      "+-----------------+----------+-----+\n",
      "|              0.0|       0.0|40051|\n",
      "|              0.0|       1.0| 3131|\n",
      "|              0.0|       2.0| 2425|\n",
      "|              0.0|       3.0| 2693|\n",
      "|              1.0|       0.0| 1135|\n",
      "|              1.0|       1.0|33908|\n",
      "|              1.0|       2.0| 4289|\n",
      "|              2.0|       0.0| 1229|\n",
      "|              2.0|       1.0| 5483|\n",
      "|              2.0|       2.0|32452|\n",
      "|              3.0|       0.0| 3314|\n",
      "|              3.0|       1.0| 1682|\n",
      "|              3.0|       2.0| 1444|\n",
      "|              3.0|       3.0|20162|\n",
      "+-----------------+----------+-----+\n",
      "\n",
      "+-----------------+----------+-----+\n",
      "|age_group_indexed|prediction|count|\n",
      "+-----------------+----------+-----+\n",
      "|              0.0|       0.0|40051|\n",
      "|              1.0|       0.0| 1135|\n",
      "|              2.0|       0.0| 1229|\n",
      "|              3.0|       0.0| 3314|\n",
      "|              0.0|       1.0| 3131|\n",
      "|              1.0|       1.0|33908|\n",
      "|              2.0|       1.0| 5483|\n",
      "|              3.0|       1.0| 1682|\n",
      "|              0.0|       2.0| 2425|\n",
      "|              1.0|       2.0| 4289|\n",
      "|              2.0|       2.0|32452|\n",
      "|              3.0|       2.0| 1444|\n",
      "|              0.0|       3.0| 2693|\n",
      "|              3.0|       3.0|20162|\n",
      "+-----------------+----------+-----+\n",
      "\n"
     ]
    }
   ],
   "source": [
    "confusion_matrix_info = predicted_test_data.select(\"age_group_indexed\", \"prediction\")\\\n",
    "                                           .groupBy(\"age_group_indexed\", \"prediction\")\\\n",
    "                                           .count()\n",
    "\n",
    "confusion_matrix_info.orderBy(\"age_group_indexed\", \"prediction\").show()\n",
    "confusion_matrix_info.orderBy(\"prediction\", \"age_group_indexed\").show()"
   ]
  },
  {
   "cell_type": "code",
   "execution_count": 11,
   "metadata": {},
   "outputs": [],
   "source": [
    "# Save the model\n",
    "model.save(\"hdfs://devenv/user/spark/spark_mllib_101/ec_web_logs_analysis/model_age_group_prediction/\")\n",
    "\n",
    "\n",
    "# +---------+-----------------+                                                   \n",
    "# |age_group|age_group_indexed|\n",
    "# +---------+-----------------+\n",
    "# | under 20|              2.0|\n",
    "# |  over 50|              3.0|\n",
    "# |    21-35|              0.0|\n",
    "# |    36-50|              1.0|\n",
    "# +---------+-----------------+"
   ]
  },
  {
   "cell_type": "code",
   "execution_count": null,
   "metadata": {},
   "outputs": [],
   "source": []
  }
 ],
 "metadata": {
  "kernelspec": {
   "display_name": "Python 3",
   "language": "python",
   "name": "python3"
  },
  "language_info": {
   "codemirror_mode": {
    "name": "ipython",
    "version": 3
   },
   "file_extension": ".py",
   "mimetype": "text/x-python",
   "name": "python",
   "nbconvert_exporter": "python",
   "pygments_lexer": "ipython3",
   "version": "3.7.6"
  }
 },
 "nbformat": 4,
 "nbformat_minor": 4
}
