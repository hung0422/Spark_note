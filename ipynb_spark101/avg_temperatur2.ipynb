{
 "cells": [
  {
   "cell_type": "code",
   "execution_count": 1,
   "metadata": {
    "scrolled": true
   },
   "outputs": [
    {
     "data": {
      "text/html": [
       "\n",
       "        <div>\n",
       "            <p><b>SparkContext</b></p>\n",
       "\n",
       "            <p><a href=\"http://192.168.186.128:4040\">Spark UI</a></p>\n",
       "\n",
       "            <dl>\n",
       "              <dt>Version</dt>\n",
       "                <dd><code>v2.4.5</code></dd>\n",
       "              <dt>Master</dt>\n",
       "                <dd><code>spark://devenv:7077</code></dd>\n",
       "              <dt>AppName</dt>\n",
       "                <dd><code>PySparkShell</code></dd>\n",
       "            </dl>\n",
       "        </div>\n",
       "        "
      ],
      "text/plain": [
       "<SparkContext master=spark://devenv:7077 appName=PySparkShell>"
      ]
     },
     "execution_count": 1,
     "metadata": {},
     "output_type": "execute_result"
    }
   ],
   "source": [
    "sc"
   ]
  },
  {
   "cell_type": "code",
   "execution_count": 2,
   "metadata": {},
   "outputs": [],
   "source": [
    "records = sc.textFile(\"hdfs://devenv/user/spark/spark101/avg_temperature/data\")"
   ]
  },
  {
   "cell_type": "code",
   "execution_count": 3,
   "metadata": {},
   "outputs": [],
   "source": [
    "def is_good(record):\n",
    "    try:\n",
    "        temp = int(record.split(\",\")[10])\n",
    "    except ValueError:\n",
    "        return False\n",
    "    return True"
   ]
  },
  {
   "cell_type": "code",
   "execution_count": 4,
   "metadata": {},
   "outputs": [],
   "source": [
    "good_records = records.filter(is_good)"
   ]
  },
  {
   "cell_type": "code",
   "execution_count": 5,
   "metadata": {},
   "outputs": [],
   "source": [
    "day_temp = good_records.map(lambda x: (x.split(\",\")[1], int(x.split(\",\")[10])))"
   ]
  },
  {
   "cell_type": "code",
   "execution_count": 6,
   "metadata": {},
   "outputs": [],
   "source": [
    "result = day_temp.combineByKey(lambda v: (v, 1), \n",
    "                               lambda acc, v: (acc[0] + v, acc[1] + 1),\n",
    "                               lambda acc1, acc2: (acc1[0] + acc2[0], acc1[1] + acc2[1])) \\\n",
    "                 .map(lambda x: (x[0], x[1][0] / x[1][1]))"
   ]
  },
  {
   "cell_type": "code",
   "execution_count": 7,
   "metadata": {},
   "outputs": [
    {
     "name": "stdout",
     "output_type": "stream",
     "text": [
      "('20070101', 19.363636363636363)\n",
      "('20070108', 22.200757575757574)\n",
      "('20070110', 27.291187739463602)\n",
      "('20070111', 29.193916349809886)\n",
      "('20070112', 18.475285171102662)\n",
      "('20070113', 13.75)\n",
      "('20070115', 4.765151515151516)\n",
      "('20070116', 9.193181818181818)\n",
      "('20070119', 16.038314176245212)\n",
      "('20070122', 13.653992395437262)\n",
      "('20070125', 23.827450980392157)\n",
      "('20070128', 19.901515151515152)\n",
      "('20070131', 21.711297071129707)\n",
      "('20070102', 19.726235741444867)\n",
      "('20070103', 25.290076335877863)\n",
      "('20070104', 29.946969696969695)\n",
      "('20070105', 25.295454545454547)\n",
      "('20070106', 16.481060606060606)\n",
      "('20070107', 16.397727272727273)\n",
      "('20070109', 22.27734375)\n",
      "('20070114', 9.549242424242424)\n",
      "('20070117', 14.395437262357415)\n",
      "('20070118', 14.393939393939394)\n",
      "('20070120', 21.40530303030303)\n",
      "('20070121', 19.545454545454547)\n",
      "('20070123', 18.325757575757574)\n",
      "('20070124', 22.813688212927758)\n",
      "('20070126', 24.484251968503937)\n",
      "('20070127', 20.757575757575758)\n",
      "('20070129', 19.03030303030303)\n",
      "('20070130', 18.50190114068441)\n"
     ]
    }
   ],
   "source": [
    "for line in result.collect():\n",
    "        print(line)"
   ]
  }
 ],
 "metadata": {
  "kernelspec": {
   "display_name": "Python 3",
   "language": "python",
   "name": "python3"
  },
  "language_info": {
   "codemirror_mode": {
    "name": "ipython",
    "version": 3
   },
   "file_extension": ".py",
   "mimetype": "text/x-python",
   "name": "python",
   "nbconvert_exporter": "python",
   "pygments_lexer": "ipython3",
   "version": "3.7.6"
  }
 },
 "nbformat": 4,
 "nbformat_minor": 4
}
