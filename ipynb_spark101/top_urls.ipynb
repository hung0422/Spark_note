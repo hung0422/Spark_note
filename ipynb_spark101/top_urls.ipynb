{
 "cells": [
  {
   "cell_type": "code",
   "execution_count": 1,
   "metadata": {},
   "outputs": [],
   "source": [
    "import re\n",
    "from geoip2.database import Reader"
   ]
  },
  {
   "cell_type": "code",
   "execution_count": 2,
   "metadata": {},
   "outputs": [
    {
     "data": {
      "text/html": [
       "\n",
       "        <div>\n",
       "            <p><b>SparkContext</b></p>\n",
       "\n",
       "            <p><a href=\"http://192.168.186.133:4040\">Spark UI</a></p>\n",
       "\n",
       "            <dl>\n",
       "              <dt>Version</dt>\n",
       "                <dd><code>v2.4.5</code></dd>\n",
       "              <dt>Master</dt>\n",
       "                <dd><code>spark://devenv:7077</code></dd>\n",
       "              <dt>AppName</dt>\n",
       "                <dd><code>PySparkShell</code></dd>\n",
       "            </dl>\n",
       "        </div>\n",
       "        "
      ],
      "text/plain": [
       "<SparkContext master=spark://devenv:7077 appName=PySparkShell>"
      ]
     },
     "execution_count": 2,
     "metadata": {},
     "output_type": "execute_result"
    }
   ],
   "source": [
    "sc"
   ]
  },
  {
   "cell_type": "code",
   "execution_count": 3,
   "metadata": {},
   "outputs": [],
   "source": [
    "def log_pattern():\n",
    "    three_digits = \"\\\\d{1,3}\"\n",
    "    ip = \"({}\\\\.{}\\\\.{}\\\\.{})?\".format(three_digits, three_digits, three_digits, three_digits)\n",
    "    client = \"(\\\\S+)\"\n",
    "    uid = \"(\\\\S+)\"\n",
    "    date_time = \"(\\\\[.+?\\\\])\"\n",
    "    request = \"\\\"(.*?)\\\"\"\n",
    "    status_code = \"(\\\\d{3})\"\n",
    "    bytes_part = \"(\\\\S+)\"\n",
    "    referer = \"\\\"(.*?)\\\"\"\n",
    "    agent = \"\\\"(.*?)\\\"\"\n",
    "    regex = \"{} {} {} {} {} {} {} {} {}\".format(ip, client, uid, date_time, request, status_code, bytes_part, referer, agent)\n",
    "    return re.compile(regex)"
   ]
  },
  {
   "cell_type": "code",
   "execution_count": 4,
   "metadata": {},
   "outputs": [],
   "source": [
    "pattern = log_pattern()"
   ]
  },
  {
   "cell_type": "code",
   "execution_count": 5,
   "metadata": {},
   "outputs": [],
   "source": [
    "lines = sc.textFile(\"hdfs://devenv/user/spark/spark101/access_log_analysis/data\")"
   ]
  },
  {
   "cell_type": "code",
   "execution_count": 6,
   "metadata": {},
   "outputs": [],
   "source": [
    "def extract_request(line):\n",
    "    match = pattern.match(line)\n",
    "    if match:\n",
    "        return match.group(5)\n",
    "    else:\n",
    "        return \"InvalidLogFound\""
   ]
  },
  {
   "cell_type": "code",
   "execution_count": 7,
   "metadata": {
    "scrolled": true
   },
   "outputs": [],
   "source": [
    "requests = lines.map(extract_request)"
   ]
  },
  {
   "cell_type": "code",
   "execution_count": 8,
   "metadata": {},
   "outputs": [],
   "source": [
    "def extract_url(request):\n",
    "    arr = request.split(\" \")\n",
    "    if len(arr) == 3:\n",
    "        return arr[1]\n",
    "    else:\n",
    "        return \"InvalidLogFound\""
   ]
  },
  {
   "cell_type": "code",
   "execution_count": 9,
   "metadata": {},
   "outputs": [],
   "source": [
    "urls = requests.map(extract_url)"
   ]
  },
  {
   "cell_type": "code",
   "execution_count": 10,
   "metadata": {
    "scrolled": true
   },
   "outputs": [],
   "source": [
    "url_visits = urls.map(lambda x: (x, 1)).reduceByKey(lambda x, y: x + y)"
   ]
  },
  {
   "cell_type": "code",
   "execution_count": 11,
   "metadata": {},
   "outputs": [],
   "source": [
    "url_visits_sorted = url_visits.sortBy(lambda x: x[1], False)"
   ]
  },
  {
   "cell_type": "code",
   "execution_count": 12,
   "metadata": {},
   "outputs": [],
   "source": [
    "result = url_visits_sorted.collect()"
   ]
  },
  {
   "cell_type": "code",
   "execution_count": 13,
   "metadata": {},
   "outputs": [
    {
     "name": "stdout",
     "output_type": "stream",
     "text": [
      "/xmlrpc.php: 68494\n",
      "/wp-login.php: 1923\n",
      "/: 440\n",
      "/blog/: 138\n",
      "/robots.txt: 123\n",
      "/post-sitemap.xml: 118\n",
      "/sitemap_index.xml: 118\n",
      "/category-sitemap.xml: 117\n",
      "/page-sitemap.xml: 117\n",
      "/orlando-headlines/: 95\n",
      "/san-jose-headlines/: 85\n",
      "http://51.254.206.142/httptest.php: 81\n",
      "/comics-2/: 76\n",
      "/travel/: 74\n",
      "/entertainment/: 72\n",
      "/national/: 70\n",
      "/world/: 70\n",
      "/business/: 70\n",
      "/national-headlines/: 70\n",
      "/weather/: 70\n",
      "/about/: 69\n",
      "/defense-sticking-head-sand/: 69\n",
      "/technology/: 68\n",
      "/australia/: 68\n",
      "/science/: 66\n",
      "/san-jose-sports/: 62\n",
      "/national-sports/: 61\n",
      "/seattle-headlines/: 61\n",
      "/no-hate-news/: 61\n",
      "/introducing-comment-killer/: 60\n",
      "/filter-bad-news-restore-faith-humanity/: 60\n",
      "/sports/: 60\n",
      "/dallas-headlines/: 59\n",
      "/chicago-sports/: 59\n",
      "/dallas-sports/: 59\n",
      "/houston-headlines/: 59\n",
      "/houston-sports/: 59\n",
      "/los-angeles-sports/: 59\n",
      "/new-york-city-sports/: 59\n",
      "/creating-good-comics-experience/: 59\n",
      "/phoenix-headlines/: 59\n",
      "/orlando-sports/: 59\n",
      "/philadelphia-headlines/: 59\n",
      "/seattle-sports/: 59\n",
      "/chicago-headlines/: 59\n",
      "/new-york-city-headlines/: 59\n",
      "/category/uncategorized/: 59\n",
      "/los-angeles-headlines/: 59\n",
      "/washington-dc-headlines/: 59\n",
      "/san-francisco-sports/: 59\n",
      "/washington-dc-sports/: 59\n",
      "/minneapolis-headlines/: 58\n",
      "/san-francisco-headlines/: 58\n",
      "/boston-sports/: 58\n",
      "/miami-sports/: 58\n",
      "/atlanta-headlines/: 58\n",
      "/boston-headlines/: 58\n",
      "/san-diego-headlines/: 58\n",
      "/raleigh-headlines/: 58\n",
      "/raleigh-sports/: 58\n",
      "/tampa-sports/: 58\n",
      "/st-louis-sports/: 58\n",
      "/phoenix-sports/: 58\n",
      "/detroit-sports/: 58\n",
      "/detroit-headlines/: 58\n",
      "/miami-headlines/: 58\n",
      "/atlanta-sports/: 58\n",
      "/minneapolis-sports/: 58\n",
      "/baltimore-sports/: 58\n",
      "/baltimore-headlines/: 58\n",
      "/tampa-headlines/: 58\n",
      "/san-diego-sports/: 58\n",
      "/st-louis-headlines/: 58\n",
      "/philadelphia-sports/: 58\n",
      "/wp-content/cache/minify/000000/M9bPKixNLarUy00szs8D0Zl5AA.js: 28\n",
      "/wp-content/cache/minify/000000/M9AvyUjVzUstLy7PLErVz8lMKkosqtTPKtYvTi7KLCgpBgA.js: 28\n",
      "/?page_id=34248: 28\n",
      "/wp-content/cache/minify/000000/lY7dDoIwDIVfiG0KxkfxfnbdKO4HuxICTy-it8Zw15PzfSftzPCckJem-x4qUWArqBPl5mygZLEgyhdOaoxToGyGaiALiOfUnIz0qDLOdSZGE-nOlpc3kopDzrSyavVVt_veb5qSDVhjsQ6dHh_B_eE_z2pYIGJ7iBWKeEio_eT9UQe4xHhDll27mGRryVu_pRc.js: 27\n",
      "/wp-content/cache/minify/000000/fY45DoAwDAQ_FMvkRQgFA5ZyWLajiN9zNHR0O83MRkyt-pIctqYFJPedKyYzfHg2PzOFiENAzaD07AxcpKmTolORvDjZt8KEfhBUGjZYCf8Fb0fvA1TXCw.css: 26\n",
      "/?author=1: 21\n",
      "/wp-content/cache/minify/000000/hcrRCYAwDAXAhXyEjiQ1YKAh4SVSx3cE7_uG7ASr4M9qg3kGWyk1adklK84LHtRj_My6Y0Pfqcz-AA.js: 21\n",
      "/wp-content/uploads/2014/11/nhn1.png: 19\n",
      "/wp-includes/js/wp-emoji-release.min.js?ver=4.3.1: 19\n",
      "/wp-content/cache/minify/000000/BcGBCQAgCATAiUSaKYSERPk3avzuht4SkBJnt4tHJdqgnPBqKldesTcN1R8.js: 17\n",
      "/?page_id=34499: 16\n",
      "InvalidLogFound: 11\n",
      "/favicon.ico: 11\n",
      "/?page_id=34420: 10\n",
      "/wp-content/uploads/2014/11/garfield.jpg: 8\n",
      "/wp-content/uploads/2014/11/babyblues.jpg: 7\n",
      "/wp-content/uploads/2014/11/violentcrime.jpg: 7\n",
      "/feed/: 6\n",
      "/wp-content/uploads/2014/11/jumble.jpg: 6\n",
      "/apple-touch-icon.png: 4\n",
      "/wp-content/uploads/2014/11/headlines-150x150.jpg: 4\n",
      "/?feed=rss2: 3\n",
      "/author/fkane/: 3\n",
      "/manager/html: 3\n",
      "/wp-content/uploads/2014/12/nhn-lg.png: 3\n",
      "/australia/?pg=1: 3\n",
      "/?page_id=2526: 3\n",
      "/wp-content/cache/minify/000000/fY5LCoAwDEQvZIg9kWiNWkibkkSqt_ezceduBh7zJmCU4mN0WEQzVN7XVDCa4dMH85OpC9gqqBnknT1BylXUSdEpVx6d7Etdj74RFGrWkhL-D7wevQ9QmX-hKCw6yXEB.css: 3\n",
      "/?page_id=13481: 3\n",
      "/cgi-bin/webproc: 2\n",
      "/national/?pg=1: 2\n",
      "/washington-dc-sports/feed/: 2\n",
      "/touch-icon-ipad.png: 2\n",
      "/phpmyadmin/scripts/setup.php: 2\n",
      "/?page_id=2325: 2\n",
      "/business/?pg=1: 2\n",
      "/wp-content/force-download.php?file=../wp-config.php: 2\n",
      "/wp-content/uploads/2014/11/nhn-lg.png: 2\n",
      "/wp-content/uploads/2014/11/commentkiller-lg.png: 2\n",
      "/?page_id=34501: 2\n",
      "/?page_id=34422: 2\n",
      "http://httpheader.net: 2\n",
      "http://httpheader.nethttp/httpheader.net: 2\n",
      "proxytest.zmap.io:80: 2\n",
      "/sample-page/feed/: 2\n",
      "/apple-touch-icon-76x76-precomposed.png: 2\n",
      "/apple-touch-icon-76x76.png: 2\n",
      "/wp-content/cache/minify/000000/hcvBDYAwCADAhcSmKxVJxBRBoGnd3hH839UyDTwCZPRkYDH1JC-BzpZR4tQJtJDccqs_-HoG-bujdvWmC4Tv33NQEiaINu70AQ.js: 2\n",
      "/technology/?pg=1: 2\n",
      "/force-download.php?file=wp-config.php: 2\n",
      "/wp-content/plugins/db-backup/download.php?file=/etc/passwd: 2\n",
      "/wp-admin/tools.php?page=backup_manager&download_backup_file=../wp-config.php: 2\n",
      "/wp/wp-content/force-download.php?file=../wp-config.php: 2\n",
      "/entertainment/?pg=0: 1\n",
      "/html/languages/es_es/main.js: 1\n",
      "/about/feed/: 1\n",
      "//myadmin/scripts/setup.php: 1\n",
      "/national-headlines/?pg=2: 1\n",
      "/wp-content/plugins/landing-pages/tests/phantomjs/server.php?url=;ls: 1\n",
      "/jmx-console/HtmlAdaptor?action=inspectMBean&name=jboss.system:type=ServerInfo: 1\n",
      "/invoker/JMXInvokerServlet: 1\n",
      "/?page_id=72: 1\n",
      "/?page_id=72&pg=1: 1\n",
      "/?page_id=72&pg=0: 1\n",
      "/feeds/tampa-bay-times-top-news/: 1\n",
      "/?p=13636: 1\n",
      "/world/?pg=1: 1\n",
      "/unAuthorizedAccess.action: 1\n",
      "/national-headlines/force-download.php?file=wp-config.php: 1\n",
      "/national-headlines/wp-content/force-download.php?file=../wp-config.php: 1\n",
      "/national-headlines/wp-admin/tools.php?page=backup_manager&download_backup_file=../wp-config.php: 1\n",
      "/national-headlines/wp-content/plugins/db-backup/download.php?file=/etc/passwd: 1\n",
      "/national-headlines/wp/wp-content/force-download.php?file=../wp-config.php: 1\n",
      "/jeecms.do: 1\n",
      "/science/?pg=0: 1\n",
      "//phpMyAdmin/scripts/setup.php: 1\n",
      "/?page_id=2112: 1\n",
      "/science/?pg=1: 1\n",
      "/touch-icon-ipad-retina.png: 1\n",
      "/?page_id=34453: 1\n",
      "/web-console/ServerInfo.jsp: 1\n",
      "/travel/?pg=1: 1\n",
      "/entertainment/?pg=1: 1\n",
      "/weather/feed/: 1\n",
      "/?page_id=76: 1\n",
      "/technology/?pg=0: 1\n",
      "/san-francisco-sports/feed/: 1\n",
      "http://www.baidu.com/robots.txt: 1\n",
      "/x: 1\n",
      "http://testp2.czar.bielawa.pl/testproxy.php: 1\n",
      "/orlando-headlines/?pg=1: 1\n",
      "/wp-content/uploads/2014/11/national-150x150.jpg: 1\n",
      "/index.action: 1\n",
      "/san-jose-headlines/feed/: 1\n",
      "/travel/feed/: 1\n"
     ]
    }
   ],
   "source": [
    "for url, count in result:\n",
    "    print(\"{}: {}\".format(url, count))"
   ]
  }
 ],
 "metadata": {
  "kernelspec": {
   "display_name": "Python 3",
   "language": "python",
   "name": "python3"
  },
  "language_info": {
   "codemirror_mode": {
    "name": "ipython",
    "version": 3
   },
   "file_extension": ".py",
   "mimetype": "text/x-python",
   "name": "python",
   "nbconvert_exporter": "python",
   "pygments_lexer": "ipython3",
   "version": "3.7.6"
  }
 },
 "nbformat": 4,
 "nbformat_minor": 4
}
