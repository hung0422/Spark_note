{
 "cells": [
  {
   "cell_type": "code",
   "execution_count": 1,
   "metadata": {},
   "outputs": [],
   "source": [
    "import re\n",
    "from geoip2.database import Reader"
   ]
  },
  {
   "cell_type": "code",
   "execution_count": 2,
   "metadata": {},
   "outputs": [
    {
     "data": {
      "text/html": [
       "\n",
       "        <div>\n",
       "            <p><b>SparkContext</b></p>\n",
       "\n",
       "            <p><a href=\"http://192.168.186.133:4040\">Spark UI</a></p>\n",
       "\n",
       "            <dl>\n",
       "              <dt>Version</dt>\n",
       "                <dd><code>v2.4.5</code></dd>\n",
       "              <dt>Master</dt>\n",
       "                <dd><code>spark://devenv:7077</code></dd>\n",
       "              <dt>AppName</dt>\n",
       "                <dd><code>PySparkShell</code></dd>\n",
       "            </dl>\n",
       "        </div>\n",
       "        "
      ],
      "text/plain": [
       "<SparkContext master=spark://devenv:7077 appName=PySparkShell>"
      ]
     },
     "execution_count": 2,
     "metadata": {},
     "output_type": "execute_result"
    }
   ],
   "source": [
    "sc"
   ]
  },
  {
   "cell_type": "code",
   "execution_count": 3,
   "metadata": {},
   "outputs": [],
   "source": [
    "def log_pattern():\n",
    "    three_digits = \"\\\\d{1,3}\"\n",
    "    ip = \"({}\\\\.{}\\\\.{}\\\\.{})?\".format(three_digits, three_digits, three_digits, three_digits)\n",
    "    client = \"(\\\\S+)\"\n",
    "    uid = \"(\\\\S+)\"\n",
    "    date_time = \"(\\\\[.+?\\\\])\"\n",
    "    request = \"\\\"(.*?)\\\"\"\n",
    "    status_code = \"(\\\\d{3})\"\n",
    "    bytes_part = \"(\\\\S+)\"\n",
    "    referer = \"\\\"(.*?)\\\"\"\n",
    "    agent = \"\\\"(.*?)\\\"\"\n",
    "    regex = \"{} {} {} {} {} {} {} {} {}\".format(ip, client, uid, date_time, request, status_code, bytes_part, referer, agent)\n",
    "    return re.compile(regex)"
   ]
  },
  {
   "cell_type": "code",
   "execution_count": 4,
   "metadata": {},
   "outputs": [],
   "source": [
    "pattern = log_pattern()"
   ]
  },
  {
   "cell_type": "code",
   "execution_count": 5,
   "metadata": {},
   "outputs": [],
   "source": [
    "reader = None"
   ]
  },
  {
   "cell_type": "code",
   "execution_count": 6,
   "metadata": {},
   "outputs": [],
   "source": [
    "lines = sc.textFile(\"hdfs://devenv/user/spark/spark101/access_log_analysis/data\")"
   ]
  },
  {
   "cell_type": "code",
   "execution_count": 7,
   "metadata": {},
   "outputs": [],
   "source": [
    "def extract_location(line):\n",
    "    global reader\n",
    "\n",
    "    if reader is None:\n",
    "        reader = Reader(\"/home/spark/spark-2.4.5-bin-hadoop2.7/maxmind/GeoLite2-City.mmdb\")\n",
    "\n",
    "    match = pattern.match(line)\n",
    "\n",
    "    if match:\n",
    "        ip = match.group(1)\n",
    "        response = reader.city(ip)\n",
    "        country = response.country.name\n",
    "        city = response.city.name\n",
    "\n",
    "        if city is None:\n",
    "            return country\n",
    "        else:\n",
    "            return \"{},{}\".format(country, city)\n",
    "\n",
    "    else:\n",
    "        return \"InvalidLogFound\""
   ]
  },
  {
   "cell_type": "code",
   "execution_count": 8,
   "metadata": {
    "scrolled": true
   },
   "outputs": [],
   "source": [
    "ips = lines.map(extract_location)"
   ]
  },
  {
   "cell_type": "code",
   "execution_count": 9,
   "metadata": {},
   "outputs": [],
   "source": [
    "location_visits = ips.map(lambda x: (x, 1)).reduceByKey(lambda x, y: x + y)"
   ]
  },
  {
   "cell_type": "code",
   "execution_count": 10,
   "metadata": {},
   "outputs": [],
   "source": [
    "location_visits_sorted = location_visits.sortBy(lambda x: x[1], False)"
   ]
  },
  {
   "cell_type": "code",
   "execution_count": 11,
   "metadata": {},
   "outputs": [],
   "source": [
    "result = location_visits_sorted.collect()"
   ]
  },
  {
   "cell_type": "code",
   "execution_count": 12,
   "metadata": {},
   "outputs": [
    {
     "name": "stdout",
     "output_type": "stream",
     "text": [
      "Netherlands: 68493\n",
      "United States,Ashburn: 4434\n",
      "France: 1756\n",
      "United States: 326\n",
      "China,Beijing: 300\n",
      "United States,Mountain View: 255\n",
      "France,Noisy-le-Grand: 81\n",
      "United States,Redmond: 38\n",
      "United States,Newburyport: 29\n",
      "United States,Jacksonville: 27\n",
      "United Kingdom: 25\n",
      "United States,Provo: 23\n",
      "Germany: 23\n",
      "Russia,St Petersburg: 19\n",
      "Canada,Montreal: 18\n",
      "United States,Orlando: 17\n",
      "United States,San Jose: 11\n",
      "United States,Chicago: 10\n",
      "United States,Los Angeles: 10\n",
      "United States,Fort Lauderdale: 10\n",
      "Argentina,Buenos Aires: 9\n",
      "United States,Boydton: 7\n",
      "United Kingdom,Slough: 6\n",
      "United States,Sunnyvale: 6\n",
      "Netherlands,Amsterdam: 5\n",
      "United States,Spring: 5\n",
      "Seychelles: 5\n",
      "United States,Ann Arbor: 5\n",
      "United States,Clifton: 5\n",
      "United States,New York: 4\n",
      "China,Chongqing: 4\n",
      "Germany,Munich: 4\n",
      "China,Shenzhen: 4\n",
      "United States,Houston: 4\n",
      "United States,Seattle: 4\n",
      "China,Changsha: 4\n",
      "Czechia: 4\n",
      "United States,Englewood: 3\n",
      "United States,Kansas City: 3\n",
      "United States,Scottsdale: 3\n",
      "Ukraine: 3\n",
      "United States,Fremont: 3\n",
      "United Kingdom,Bristol: 3\n",
      "None: 2\n",
      "United States,Denver: 2\n",
      "Romania,Bucharest: 2\n",
      "Japan,Fukuoka: 2\n",
      "Sweden,Västerås: 2\n",
      "France,Loos: 2\n",
      "United States,Auburn: 2\n",
      "United States,Boardman: 2\n",
      "China,Guangzhou: 2\n",
      "France,Corbeil-Essonnes: 2\n",
      "United States,Brandon: 2\n",
      "United States,Dallas: 2\n",
      "Indonesia,Tangerang: 2\n",
      "Cyprus: 1\n",
      "Japan,Sakurakabu: 1\n",
      "Germany,Frankfurt am Main: 1\n",
      "Spain,Madrid: 1\n",
      "Chile,Santiago: 1\n",
      "United States,Santa Monica: 1\n",
      "China,Zhengzhou: 1\n",
      "Switzerland: 1\n",
      "Malaysia,Kuala Lumpur: 1\n",
      "Ukraine,Kiev: 1\n",
      "Australia: 1\n",
      "China,Nanjing: 1\n",
      "United States,St Louis: 1\n",
      "United States,Washington: 1\n",
      "Poland: 1\n",
      "United States,New Hyde Park: 1\n",
      "United States,Monticello: 1\n",
      "China,Chengdu: 1\n",
      "United Kingdom,London: 1\n",
      "China,Lanzhou: 1\n",
      "Taiwan: 1\n",
      "Switzerland,Zurich: 1\n",
      "United States,Chantilly: 1\n",
      "Honduras,San Juan de Flores: 1\n",
      "United States,Canyon Country: 1\n",
      "Russia: 1\n",
      "Ukraine,Kharkiv: 1\n",
      "Turkey: 1\n",
      "Canada,Wolfville: 1\n",
      "United States,Schertz: 1\n",
      "Australia,Surry Hills: 1\n",
      "New Zealand: 1\n",
      "Norway,Grua: 1\n",
      "France,Roubaix: 1\n",
      "Latvia,Riga: 1\n",
      "United States,Southfield: 1\n",
      "Malaysia: 1\n",
      "New Zealand,Auckland: 1\n",
      "United States,San Antonio: 1\n",
      "Singapore,Singapore: 1\n",
      "Germany,Aachen: 1\n",
      "Canada,Surrey: 1\n",
      "China,Lishui: 1\n",
      "United States,Little Elm: 1\n",
      "Taiwan,Taipei: 1\n"
     ]
    }
   ],
   "source": [
    "for ip, count in result:\n",
    "    print(\"{}: {}\".format(ip, count))"
   ]
  }
 ],
 "metadata": {
  "kernelspec": {
   "display_name": "Python 3",
   "language": "python",
   "name": "python3"
  },
  "language_info": {
   "codemirror_mode": {
    "name": "ipython",
    "version": 3
   },
   "file_extension": ".py",
   "mimetype": "text/x-python",
   "name": "python",
   "nbconvert_exporter": "python",
   "pygments_lexer": "ipython3",
   "version": "3.7.6"
  }
 },
 "nbformat": 4,
 "nbformat_minor": 4
}
