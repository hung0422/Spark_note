{
 "cells": [
  {
   "cell_type": "code",
   "execution_count": 1,
   "metadata": {},
   "outputs": [],
   "source": [
    "from pyspark.sql import SparkSession\n",
    "from pyspark.sql.functions import *"
   ]
  },
  {
   "cell_type": "code",
   "execution_count": 2,
   "metadata": {},
   "outputs": [
    {
     "data": {
      "text/html": [
       "\n",
       "            <div>\n",
       "                <p><b>SparkSession - hive</b></p>\n",
       "                \n",
       "        <div>\n",
       "            <p><b>SparkContext</b></p>\n",
       "\n",
       "            <p><a href=\"http://192.168.186.133:4040\">Spark UI</a></p>\n",
       "\n",
       "            <dl>\n",
       "              <dt>Version</dt>\n",
       "                <dd><code>v2.4.5</code></dd>\n",
       "              <dt>Master</dt>\n",
       "                <dd><code>spark://devenv:7077</code></dd>\n",
       "              <dt>AppName</dt>\n",
       "                <dd><code>PySparkShell</code></dd>\n",
       "            </dl>\n",
       "        </div>\n",
       "        \n",
       "            </div>\n",
       "        "
      ],
      "text/plain": [
       "<pyspark.sql.session.SparkSession at 0x7fc9089155d0>"
      ]
     },
     "execution_count": 2,
     "metadata": {},
     "output_type": "execute_result"
    }
   ],
   "source": [
    "spark"
   ]
  },
  {
   "cell_type": "code",
   "execution_count": 3,
   "metadata": {},
   "outputs": [
    {
     "data": {
      "text/html": [
       "\n",
       "        <div>\n",
       "            <p><b>SparkContext</b></p>\n",
       "\n",
       "            <p><a href=\"http://192.168.186.133:4040\">Spark UI</a></p>\n",
       "\n",
       "            <dl>\n",
       "              <dt>Version</dt>\n",
       "                <dd><code>v2.4.5</code></dd>\n",
       "              <dt>Master</dt>\n",
       "                <dd><code>spark://devenv:7077</code></dd>\n",
       "              <dt>AppName</dt>\n",
       "                <dd><code>PySparkShell</code></dd>\n",
       "            </dl>\n",
       "        </div>\n",
       "        "
      ],
      "text/plain": [
       "<SparkContext master=spark://devenv:7077 appName=PySparkShell>"
      ]
     },
     "execution_count": 3,
     "metadata": {},
     "output_type": "execute_result"
    }
   ],
   "source": [
    "sc"
   ]
  },
  {
   "cell_type": "code",
   "execution_count": 4,
   "metadata": {},
   "outputs": [],
   "source": [
    "data = spark.read.csv(\"hdfs://devenv/user/spark/spark_sql_101/crime/data/\", header=True, inferSchema=True)"
   ]
  },
  {
   "cell_type": "code",
   "execution_count": 5,
   "metadata": {},
   "outputs": [],
   "source": [
    "crime_2015_6 = data.filter(\"year >= 2015\").drop(\"lsoa_code\")"
   ]
  },
  {
   "cell_type": "code",
   "execution_count": 6,
   "metadata": {},
   "outputs": [],
   "source": [
    "convictions_by_borough = crime_2015_6.groupBy(\"borough\").agg({\"value\": \"sum\"})"
   ]
  },
  {
   "cell_type": "code",
   "execution_count": 7,
   "metadata": {},
   "outputs": [],
   "source": [
    "convictions_by_borough = convictions_by_borough.withColumnRenamed(\"sum(value)\", \"num_of_convictions\")"
   ]
  },
  {
   "cell_type": "code",
   "execution_count": 8,
   "metadata": {},
   "outputs": [],
   "source": [
    "total_convictions = convictions_by_borough.agg({\"num_of_convictions\": \"sum\"}).collect()[0][0]"
   ]
  },
  {
   "cell_type": "code",
   "execution_count": 9,
   "metadata": {},
   "outputs": [],
   "source": [
    "convictions_by_borough_with_percentage = convictions_by_borough.withColumn(\"percentage_convictions\",\n",
    "                                                                          format_number(convictions_by_borough[\"num_of_convictions\"] / total_convictions * 100, 2))"
   ]
  },
  {
   "cell_type": "code",
   "execution_count": 10,
   "metadata": {},
   "outputs": [
    {
     "name": "stdout",
     "output_type": "stream",
     "text": [
      "+--------------------+------------------+----------------------+\n",
      "|             borough|num_of_convictions|percentage_convictions|\n",
      "+--------------------+------------------+----------------------+\n",
      "|             Croydon|              5669|                  3.88|\n",
      "|          Wandsworth|              4791|                  3.28|\n",
      "|              Bexley|              2513|                  1.72|\n",
      "|             Lambeth|              6837|                  4.68|\n",
      "|Barking and Dagenham|              3310|                  2.27|\n",
      "|              Camden|              5790|                  3.97|\n",
      "|           Greenwich|              4413|                  3.02|\n",
      "|              Newham|              5807|                  3.98|\n",
      "|       Tower Hamlets|              5855|                  4.01|\n",
      "|              Barnet|              4960|                  3.40|\n",
      "|            Hounslow|              4311|                  2.95|\n",
      "|              Harrow|              2552|                  1.75|\n",
      "|Kensington and Ch...|              3973|                  2.72|\n",
      "|           Islington|              5541|                  3.80|\n",
      "|               Brent|              5327|                  3.65|\n",
      "|            Haringey|              5194|                  3.56|\n",
      "|             Bromley|              3978|                  2.72|\n",
      "|              Merton|              2336|                  1.60|\n",
      "|         Westminster|              9391|                  6.43|\n",
      "|           Southwark|              6284|                  4.30|\n",
      "+--------------------+------------------+----------------------+\n",
      "only showing top 20 rows\n",
      "\n"
     ]
    }
   ],
   "source": [
    "convictions_by_borough_with_percentage.show()"
   ]
  }
 ],
 "metadata": {
  "kernelspec": {
   "display_name": "Python 3",
   "language": "python",
   "name": "python3"
  },
  "language_info": {
   "codemirror_mode": {
    "name": "ipython",
    "version": 3
   },
   "file_extension": ".py",
   "mimetype": "text/x-python",
   "name": "python",
   "nbconvert_exporter": "python",
   "pygments_lexer": "ipython3",
   "version": "3.7.6"
  }
 },
 "nbformat": 4,
 "nbformat_minor": 4
}
