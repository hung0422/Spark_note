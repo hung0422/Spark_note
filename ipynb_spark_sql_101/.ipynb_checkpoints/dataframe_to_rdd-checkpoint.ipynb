{
 "cells": [
  {
   "cell_type": "code",
   "execution_count": 1,
   "metadata": {},
   "outputs": [
    {
     "data": {
      "text/html": [
       "\n",
       "            <div>\n",
       "                <p><b>SparkSession - hive</b></p>\n",
       "                \n",
       "        <div>\n",
       "            <p><b>SparkContext</b></p>\n",
       "\n",
       "            <p><a href=\"http://192.168.186.133:4040\">Spark UI</a></p>\n",
       "\n",
       "            <dl>\n",
       "              <dt>Version</dt>\n",
       "                <dd><code>v2.4.5</code></dd>\n",
       "              <dt>Master</dt>\n",
       "                <dd><code>spark://devenv:7077</code></dd>\n",
       "              <dt>AppName</dt>\n",
       "                <dd><code>PySparkShell</code></dd>\n",
       "            </dl>\n",
       "        </div>\n",
       "        \n",
       "            </div>\n",
       "        "
      ],
      "text/plain": [
       "<pyspark.sql.session.SparkSession at 0x7fe6985ac5d0>"
      ]
     },
     "execution_count": 1,
     "metadata": {},
     "output_type": "execute_result"
    }
   ],
   "source": [
    "spark"
   ]
  },
  {
   "cell_type": "code",
   "execution_count": 2,
   "metadata": {},
   "outputs": [
    {
     "data": {
      "text/html": [
       "\n",
       "        <div>\n",
       "            <p><b>SparkContext</b></p>\n",
       "\n",
       "            <p><a href=\"http://192.168.186.133:4040\">Spark UI</a></p>\n",
       "\n",
       "            <dl>\n",
       "              <dt>Version</dt>\n",
       "                <dd><code>v2.4.5</code></dd>\n",
       "              <dt>Master</dt>\n",
       "                <dd><code>spark://devenv:7077</code></dd>\n",
       "              <dt>AppName</dt>\n",
       "                <dd><code>PySparkShell</code></dd>\n",
       "            </dl>\n",
       "        </div>\n",
       "        "
      ],
      "text/plain": [
       "<SparkContext master=spark://devenv:7077 appName=PySparkShell>"
      ]
     },
     "execution_count": 2,
     "metadata": {},
     "output_type": "execute_result"
    }
   ],
   "source": [
    "sc"
   ]
  },
  {
   "cell_type": "code",
   "execution_count": 3,
   "metadata": {},
   "outputs": [],
   "source": [
    "stocks = spark.read.csv(\"hdfs://devenv/user/spark/spark_sql_101/data/stocks.csv\",\n",
    "                        header=True,\n",
    "                        schema=\"symbol string, day date, open float, high float, low float, \\\n",
    "                                close float, volume long, adj_close float\")"
   ]
  },
  {
   "cell_type": "code",
   "execution_count": 4,
   "metadata": {},
   "outputs": [],
   "source": [
    "stocks_rdd = stocks.rdd"
   ]
  },
  {
   "cell_type": "code",
   "execution_count": 5,
   "metadata": {},
   "outputs": [],
   "source": [
    "stocks_rdd_list = stocks_rdd.collect()"
   ]
  },
  {
   "cell_type": "code",
   "execution_count": 6,
   "metadata": {},
   "outputs": [
    {
     "data": {
      "text/plain": [
       "[Row(symbol='AAPL', day=datetime.date(2009, 1, 2), open=85.87999725341797, high=91.04000091552734, low=85.16000366210938, close=90.75, volume=26643400, adj_close=90.75),\n",
       " Row(symbol='AAPL', day=datetime.date(2008, 1, 2), open=199.27000427246094, high=200.25999450683594, low=192.5500030517578, close=194.83999633789062, volume=38542100, adj_close=194.83999633789062),\n",
       " Row(symbol='AAPL', day=datetime.date(2007, 1, 3), open=86.29000091552734, high=86.58000183105469, low=81.9000015258789, close=83.80000305175781, volume=44225700, adj_close=83.80000305175781),\n",
       " Row(symbol='AAPL', day=datetime.date(2006, 1, 3), open=72.37999725341797, high=74.75, low=72.25, close=74.75, volume=28829800, adj_close=74.75),\n",
       " Row(symbol='AAPL', day=datetime.date(2005, 1, 3), open=64.77999877929688, high=65.11000061035156, low=62.599998474121094, close=63.290000915527344, volume=24714000, adj_close=31.649999618530273),\n",
       " Row(symbol='AAPL', day=datetime.date(2004, 1, 2), open=21.549999237060547, high=21.75, low=21.18000030517578, close=21.280000686645508, volume=5165800, adj_close=10.640000343322754),\n",
       " Row(symbol='AAPL', day=datetime.date(2003, 1, 2), open=14.359999656677246, high=14.920000076293945, low=14.350000381469727, close=14.800000190734863, volume=6479600, adj_close=7.400000095367432),\n",
       " Row(symbol='AAPL', day=datetime.date(2002, 1, 2), open=22.049999237060547, high=23.299999237060547, low=21.959999084472656, close=23.299999237060547, volume=18910600, adj_close=11.649999618530273),\n",
       " Row(symbol='AAPL', day=datetime.date(2001, 1, 2), open=14.880000114440918, high=15.25, low=14.5600004196167, close=14.880000114440918, volume=16161800, adj_close=7.440000057220459),\n",
       " Row(symbol='AAPL', day=datetime.date(2000, 1, 3), open=104.87000274658203, high=112.5, low=101.69000244140625, close=111.94000244140625, volume=19144400, adj_close=27.989999771118164),\n",
       " Row(symbol='CSCO', day=datetime.date(2009, 1, 2), open=16.40999984741211, high=17.0, low=16.25, close=16.959999084472656, volume=40980600, adj_close=16.959999084472656),\n",
       " Row(symbol='CSCO', day=datetime.date(2008, 1, 2), open=27.0, high=27.299999237060547, low=26.209999084472656, close=26.540000915527344, volume=64338900, adj_close=26.540000915527344),\n",
       " Row(symbol='CSCO', day=datetime.date(2007, 1, 3), open=27.459999084472656, high=27.979999542236328, low=27.329999923706055, close=27.729999542236328, volume=64226000, adj_close=27.729999542236328),\n",
       " Row(symbol='CSCO', day=datetime.date(2006, 1, 3), open=17.209999084472656, high=17.489999771118164, low=17.18000030517578, close=17.450000762939453, volume=55426000, adj_close=17.450000762939453),\n",
       " Row(symbol='CSCO', day=datetime.date(2005, 1, 3), open=19.420000076293945, high=19.610000610351562, low=19.270000457763672, close=19.31999969482422, volume=56725600, adj_close=19.31999969482422),\n",
       " Row(symbol='CSCO', day=datetime.date(2004, 1, 2), open=24.360000610351562, high=24.530000686645508, low=24.15999984741211, close=24.25, volume=29955800, adj_close=24.25),\n",
       " Row(symbol='CSCO', day=datetime.date(2003, 1, 2), open=13.109999656677246, high=13.6899995803833, low=13.09000015258789, close=13.640000343322754, volume=61335700, adj_close=13.640000343322754),\n",
       " Row(symbol='CSCO', day=datetime.date(2002, 1, 2), open=18.440000534057617, high=19.299999237060547, low=18.260000228881836, close=19.229999542236328, volume=55376900, adj_close=19.229999542236328),\n",
       " Row(symbol='CSCO', day=datetime.date(2001, 1, 2), open=38.130001068115234, high=38.5, low=32.630001068115234, close=33.310001373291016, volume=17384600, adj_close=33.310001373291016),\n",
       " Row(symbol='CSCO', day=datetime.date(2000, 1, 3), open=109.94000244140625, high=110.25, low=103.55999755859375, close=108.05999755859375, volume=53076000, adj_close=54.029998779296875),\n",
       " Row(symbol='GOOG', day=datetime.date(2009, 1, 2), open=308.6000061035156, high=321.82000732421875, low=305.5, close=321.32000732421875, volume=3610500, adj_close=321.32000732421875),\n",
       " Row(symbol='GOOG', day=datetime.date(2008, 1, 2), open=692.8699951171875, high=697.3699951171875, low=677.72998046875, close=685.1900024414062, volume=4306900, adj_close=685.1900024414062),\n",
       " Row(symbol='GOOG', day=datetime.date(2007, 1, 3), open=466.0, high=476.6600036621094, low=461.1099853515625, close=467.5899963378906, volume=7706500, adj_close=467.5899963378906),\n",
       " Row(symbol='GOOG', day=datetime.date(2006, 1, 3), open=422.5199890136719, high=435.6700134277344, low=418.2200012207031, close=435.2300109863281, volume=13121200, adj_close=435.2300109863281),\n",
       " Row(symbol='GOOG', day=datetime.date(2005, 1, 3), open=197.39999389648438, high=203.63999938964844, low=195.4600067138672, close=202.7100067138672, volume=15844200, adj_close=202.7100067138672),\n",
       " Row(symbol='MSFT', day=datetime.date(2009, 1, 2), open=19.530000686645508, high=20.399999618530273, low=19.3700008392334, close=20.329999923706055, volume=50084000, adj_close=19.860000610351562),\n",
       " Row(symbol='MSFT', day=datetime.date(2008, 1, 2), open=35.790000915527344, high=35.959999084472656, low=35.0, close=35.220001220703125, volume=63004200, adj_close=33.790000915527344),\n",
       " Row(symbol='MSFT', day=datetime.date(2007, 1, 3), open=29.90999984741211, high=30.25, low=29.399999618530273, close=29.860000610351562, volume=76935100, adj_close=28.260000228881836),\n",
       " Row(symbol='MSFT', day=datetime.date(2006, 1, 3), open=26.25, high=27.0, low=26.100000381469727, close=26.84000015258789, volume=79973000, adj_close=25.040000915527344),\n",
       " Row(symbol='MSFT', day=datetime.date(2005, 1, 3), open=26.799999237060547, high=26.950000762939453, low=26.649999618530273, close=26.739999771118164, volume=65002900, adj_close=24.649999618530273),\n",
       " Row(symbol='MSFT', day=datetime.date(2004, 1, 2), open=27.579999923706055, high=27.770000457763672, low=27.329999923706055, close=27.450000762939453, volume=44487700, adj_close=22.639999389648438),\n",
       " Row(symbol='MSFT', day=datetime.date(2003, 1, 2), open=52.29999923706055, high=53.75, low=51.709999084472656, close=53.720001220703125, volume=67025200, adj_close=21.950000762939453),\n",
       " Row(symbol='MSFT', day=datetime.date(2002, 1, 2), open=66.6500015258789, high=67.11000061035156, low=65.51000213623047, close=67.04000091552734, volume=48124000, adj_close=27.399999618530273),\n",
       " Row(symbol='MSFT', day=datetime.date(2001, 1, 2), open=44.130001068115234, high=45.0, low=42.880001068115234, close=43.380001068115234, volume=82413200, adj_close=17.729999542236328),\n",
       " Row(symbol='MSFT', day=datetime.date(2000, 1, 3), open=117.37000274658203, high=118.62000274658203, low=112.0, close=116.55999755859375, volume=53228400, adj_close=47.63999938964844),\n",
       " Row(symbol='YHOO', day=datetime.date(2009, 1, 2), open=12.170000076293945, high=12.850000381469727, low=12.119999885559082, close=12.850000381469727, volume=9514600, adj_close=12.850000381469727),\n",
       " Row(symbol='YHOO', day=datetime.date(2008, 1, 2), open=23.799999237060547, high=24.149999618530273, low=23.600000381469727, close=23.719999313354492, volume=25671700, adj_close=23.719999313354492),\n",
       " Row(symbol='YHOO', day=datetime.date(2007, 1, 3), open=25.850000381469727, high=26.260000228881836, low=25.260000228881836, close=25.610000610351562, volume=26352700, adj_close=25.610000610351562),\n",
       " Row(symbol='YHOO', day=datetime.date(2006, 1, 3), open=39.689998626708984, high=41.220001220703125, low=38.790000915527344, close=40.90999984741211, volume=24227700, adj_close=40.90999984741211),\n",
       " Row(symbol='YHOO', day=datetime.date(2005, 1, 3), open=38.36000061035156, high=38.900001525878906, low=37.650001525878906, close=38.18000030517578, volume=25482800, adj_close=38.18000030517578),\n",
       " Row(symbol='YHOO', day=datetime.date(2004, 1, 2), open=45.5, high=45.83000183105469, low=45.119998931884766, close=45.400001525878906, volume=16480000, adj_close=22.700000762939453),\n",
       " Row(symbol='YHOO', day=datetime.date(2003, 1, 2), open=16.59000015258789, high=17.65999984741211, low=16.5, close=17.600000381469727, volume=19640400, adj_close=8.800000190734863),\n",
       " Row(symbol='YHOO', day=datetime.date(2002, 1, 2), open=18.139999389648438, high=18.690000534057617, low=17.68000030517578, close=18.6299991607666, volume=21903600, adj_close=9.3100004196167),\n",
       " Row(symbol='YHOO', day=datetime.date(2001, 1, 2), open=30.309999465942383, high=30.3700008392334, low=27.5, close=28.190000534057617, volume=21939200, adj_close=14.100000381469727),\n",
       " Row(symbol='YHOO', day=datetime.date(2000, 1, 3), open=442.9200134277344, high=477.0, low=429.5, close=475.0, volume=38469600, adj_close=118.75)]"
      ]
     },
     "execution_count": 6,
     "metadata": {},
     "output_type": "execute_result"
    }
   ],
   "source": [
    "stocks_rdd_list"
   ]
  }
 ],
 "metadata": {
  "kernelspec": {
   "display_name": "Python 3",
   "language": "python",
   "name": "python3"
  },
  "language_info": {
   "codemirror_mode": {
    "name": "ipython",
    "version": 3
   },
   "file_extension": ".py",
   "mimetype": "text/x-python",
   "name": "python",
   "nbconvert_exporter": "python",
   "pygments_lexer": "ipython3",
   "version": "3.7.6"
  }
 },
 "nbformat": 4,
 "nbformat_minor": 4
}
