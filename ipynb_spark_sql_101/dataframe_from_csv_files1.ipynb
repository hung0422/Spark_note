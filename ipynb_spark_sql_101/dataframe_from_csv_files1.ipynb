{
 "cells": [
  {
   "cell_type": "code",
   "execution_count": 1,
   "metadata": {},
   "outputs": [
    {
     "data": {
      "text/html": [
       "\n",
       "            <div>\n",
       "                <p><b>SparkSession - hive</b></p>\n",
       "                \n",
       "        <div>\n",
       "            <p><b>SparkContext</b></p>\n",
       "\n",
       "            <p><a href=\"http://192.168.186.133:4040\">Spark UI</a></p>\n",
       "\n",
       "            <dl>\n",
       "              <dt>Version</dt>\n",
       "                <dd><code>v2.4.5</code></dd>\n",
       "              <dt>Master</dt>\n",
       "                <dd><code>spark://devenv:7077</code></dd>\n",
       "              <dt>AppName</dt>\n",
       "                <dd><code>PySparkShell</code></dd>\n",
       "            </dl>\n",
       "        </div>\n",
       "        \n",
       "            </div>\n",
       "        "
      ],
      "text/plain": [
       "<pyspark.sql.session.SparkSession at 0x7fb24856d5d0>"
      ]
     },
     "execution_count": 1,
     "metadata": {},
     "output_type": "execute_result"
    }
   ],
   "source": [
    "spark"
   ]
  },
  {
   "cell_type": "code",
   "execution_count": 2,
   "metadata": {},
   "outputs": [
    {
     "data": {
      "text/html": [
       "\n",
       "        <div>\n",
       "            <p><b>SparkContext</b></p>\n",
       "\n",
       "            <p><a href=\"http://192.168.186.133:4040\">Spark UI</a></p>\n",
       "\n",
       "            <dl>\n",
       "              <dt>Version</dt>\n",
       "                <dd><code>v2.4.5</code></dd>\n",
       "              <dt>Master</dt>\n",
       "                <dd><code>spark://devenv:7077</code></dd>\n",
       "              <dt>AppName</dt>\n",
       "                <dd><code>PySparkShell</code></dd>\n",
       "            </dl>\n",
       "        </div>\n",
       "        "
      ],
      "text/plain": [
       "<SparkContext master=spark://devenv:7077 appName=PySparkShell>"
      ]
     },
     "execution_count": 2,
     "metadata": {},
     "output_type": "execute_result"
    }
   ],
   "source": [
    "sc"
   ]
  },
  {
   "cell_type": "code",
   "execution_count": 3,
   "metadata": {},
   "outputs": [],
   "source": [
    "# Create a DataFrame from a CSV file with header\n",
    "stocks_df = spark.read.csv(\"hdfs://devenv/user/spark/spark_sql_101/data/stocks.csv\",\n",
    "                           header=True,\n",
    "                           schema=\"symbol string, day date, open float, high float, low float, \\\n",
    "                                   close float, volume long, adj_close float\")"
   ]
  },
  {
   "cell_type": "code",
   "execution_count": 4,
   "metadata": {
    "scrolled": false
   },
   "outputs": [
    {
     "name": "stdout",
     "output_type": "stream",
     "text": [
      "root\n",
      " |-- symbol: string (nullable = true)\n",
      " |-- day: date (nullable = true)\n",
      " |-- open: float (nullable = true)\n",
      " |-- high: float (nullable = true)\n",
      " |-- low: float (nullable = true)\n",
      " |-- close: float (nullable = true)\n",
      " |-- volume: long (nullable = true)\n",
      " |-- adj_close: float (nullable = true)\n",
      "\n"
     ]
    }
   ],
   "source": [
    "# Show the schema of a DataFrame\n",
    "stocks_df.printSchema()"
   ]
  },
  {
   "cell_type": "code",
   "execution_count": 5,
   "metadata": {},
   "outputs": [],
   "source": [
    "# use SQL to query teh DataFrame with spark.sql() methods\n",
    "stocks_df.createOrReplaceTempView(\"stocks\")\n",
    "result_df = spark.sql(\"\"\"select symbol, avg(open) as avg_open, avg(close) as avg_close, count(1) as rec_count\n",
    "                         FROM stocks\n",
    "                         GROUP BY symbol\"\"\")"
   ]
  },
  {
   "cell_type": "code",
   "execution_count": 6,
   "metadata": {},
   "outputs": [
    {
     "data": {
      "text/plain": [
       "DataFrame[symbol: string, avg_open: double, avg_close: double, rec_count: bigint]"
      ]
     },
     "execution_count": 6,
     "metadata": {},
     "output_type": "execute_result"
    }
   ],
   "source": [
    "# To cache the result in the first job\n",
    "result_df.persist()"
   ]
  },
  {
   "cell_type": "code",
   "execution_count": 7,
   "metadata": {},
   "outputs": [
    {
     "name": "stdout",
     "output_type": "stream",
     "text": [
      "+------+------------------+------------------+---------+\n",
      "|symbol|          avg_open|         avg_close|rec_count|\n",
      "+------+------------------+------------------+---------+\n",
      "|  AAPL| 68.63099994659424| 69.36300029754639|       10|\n",
      "|  CSCO|31.148000240325928|30.648999881744384|       10|\n",
      "|  YHOO| 69.33300113677979| 72.60900020599365|       10|\n",
      "|  GOOG| 417.4779968261719| 422.4080047607422|        5|\n",
      "|  MSFT| 44.63100051879883| 44.71400032043457|       10|\n",
      "+------+------------------+------------------+---------+\n",
      "\n"
     ]
    }
   ],
   "source": [
    "# Output result to console and write to hdfs in parquet file formats\n",
    "result_df.show()"
   ]
  },
  {
   "cell_type": "code",
   "execution_count": 8,
   "metadata": {},
   "outputs": [],
   "source": [
    "result_df.write.json(\"hdfs://devenv/user/spark/spark_sql_101/data/stocks_in_json1\")"
   ]
  }
 ],
 "metadata": {
  "kernelspec": {
   "display_name": "Python 3",
   "language": "python",
   "name": "python3"
  },
  "language_info": {
   "codemirror_mode": {
    "name": "ipython",
    "version": 3
   },
   "file_extension": ".py",
   "mimetype": "text/x-python",
   "name": "python",
   "nbconvert_exporter": "python",
   "pygments_lexer": "ipython3",
   "version": "3.7.6"
  }
 },
 "nbformat": 4,
 "nbformat_minor": 4
}
